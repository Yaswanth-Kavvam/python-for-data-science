{
 "cells": [
  {
   "cell_type": "markdown",
   "metadata": {},
   "source": [
    "# Exercise Notebook on Accessing Twitter"
   ]
  },
  {
   "cell_type": "markdown",
   "metadata": {},
   "source": [
    "## Exercise 1: Twitter API Access\n",
    "\n",
    "You should already have Twitter access setup for the lecture, if you do not, please revisit the lecture and make sure you have your Twitter credentials saved:"
   ]
  },
  {
   "cell_type": "code",
   "execution_count": 1,
   "metadata": {},
   "outputs": [],
   "source": [
    "import pickle\n",
    "import os"
   ]
  },
  {
   "cell_type": "markdown",
   "metadata": {},
   "source": [
    "Make sure to select the relative path to the `secret_twitter_credentials.pkl` file:"
   ]
  },
  {
   "cell_type": "code",
   "execution_count": 2,
   "metadata": {},
   "outputs": [],
   "source": [
    "Twitter=pickle.load(open('../secret_twitter_credentials.pkl','rb'))"
   ]
  },
  {
   "cell_type": "code",
   "execution_count": 3,
   "metadata": {},
   "outputs": [
    {
     "data": {
      "text/plain": [
       "<twitter.api.Twitter at 0x25eb13a65f8>"
      ]
     },
     "execution_count": 3,
     "metadata": {},
     "output_type": "execute_result"
    }
   ],
   "source": [
    "import twitter\n",
    "\n",
    "auth = twitter.oauth.OAuth(Twitter['Access Token'],\n",
    "                           Twitter['Access Token Secret'],\n",
    "                           Twitter['Consumer Key'],\n",
    "                           Twitter['Consumer Secret'])\n",
    "\n",
    "twitter_api = twitter.Twitter(auth=auth)\n",
    "twitter_api"
   ]
  },
  {
   "cell_type": "markdown",
   "metadata": {},
   "source": [
    "## Exercise 2: Get the WOE ID for a place of interest"
   ]
  },
  {
   "cell_type": "markdown",
   "metadata": {},
   "source": [
    "Find the Yahoo! Where On Earth ID for a place you are interested in at:\n",
    "\n",
    "http://woeid.rosselliot.co.nz/\n",
    "\n",
    "Set `LOCAL_WOE_ID` to this integer number below: "
   ]
  },
  {
   "cell_type": "code",
   "execution_count": 4,
   "metadata": {
    "nbgrader": {
     "grade": false,
     "grade_id": "LOCAL_WOE_ID",
     "locked": false,
     "schema_version": 1,
     "solution": true
    }
   },
   "outputs": [],
   "source": [
    "LOCAL_WOE_ID = None\n",
    "### BEGIN SOLUTION\n",
    "LOCAL_WOE_ID = 1252431 # Saigon\n",
    "### END SOLUTION"
   ]
  },
  {
   "cell_type": "code",
   "execution_count": 5,
   "metadata": {},
   "outputs": [],
   "source": [
    "assert LOCAL_WOE_ID, \"Remember to set LOCAL_WOE_ID to a location identifier\""
   ]
  },
  {
   "cell_type": "markdown",
   "metadata": {},
   "source": [
    "## Exercise 3: Retrieve and print local trends\n",
    "\n",
    "Let's use the twitter API to retrieve trends"
   ]
  },
  {
   "cell_type": "code",
   "execution_count": 6,
   "metadata": {},
   "outputs": [],
   "source": [
    "local_trends = twitter_api.trends.place(_id=LOCAL_WOE_ID)"
   ]
  },
  {
   "cell_type": "markdown",
   "metadata": {},
   "source": [
    "`local_trends` is a highly nested data structure made up of lists and dictionaries, explore it with `type()`, `len()` and indexing like `[0]` and print out a list of all the trends:"
   ]
  },
  {
   "cell_type": "code",
   "execution_count": 7,
   "metadata": {},
   "outputs": [
    {
     "name": "stdout",
     "output_type": "stream",
     "text": [
      "<class 'twitter.api.TwitterListResponse'>\n",
      "['trends', 'as_of', 'created_at', 'locations']\n",
      "[{'name': '#OurFirstLoveYoongi', 'url': 'http://twitter.com/search?q=%23OurFirstLoveYoongi', 'promoted_content': None, 'query': '%23OurFirstLoveYoongi', 'tweet_volume': 816821}, {'name': '#ELFWantOT11', 'url': 'http://twitter.com/search?q=%23ELFWantOT11', 'promoted_content': None, 'query': '%23ELFWantOT11', 'tweet_volume': 474733}, {'name': '#GreatestTaeyeonDay', 'url': 'http://twitter.com/search?q=%23GreatestTaeyeonDay', 'promoted_content': None, 'query': '%23GreatestTaeyeonDay', 'tweet_volume': 154215}, {'name': '#PerthSaintSation', 'url': 'http://twitter.com/search?q=%23PerthSaintSation', 'promoted_content': None, 'query': '%23PerthSaintSation', 'tweet_volume': 90035}, {'name': '#윤기_멋대로_살아_전부_니꺼야', 'url': 'http://twitter.com/search?q=%23%EC%9C%A4%EA%B8%B0_%EB%A9%8B%EB%8C%80%EB%A1%9C_%EC%82%B4%EC%95%84_%EC%A0%84%EB%B6%80_%EB%8B%88%EA%BA%BC%EC%95%BC', 'promoted_content': None, 'query': '%23%EC%9C%A4%EA%B8%B0_%EB%A9%8B%EB%8C%80%EB%A1%9C_%EC%82%B4%EC%95%84_%EC%A0%84%EB%B6%80_%EB%8B%88%EA%BA%BC%EC%95%BC', 'tweet_volume': 363045}, {'name': 'Min Yoongi', 'url': 'http://twitter.com/search?q=%22Min+Yoongi%22', 'promoted_content': None, 'query': '%22Min+Yoongi%22', 'tweet_volume': 188491}, {'name': 'Captain Marvel', 'url': 'http://twitter.com/search?q=%22Captain+Marvel%22', 'promoted_content': None, 'query': '%22Captain+Marvel%22', 'tweet_volume': 227748}, {'name': 'Korean', 'url': 'http://twitter.com/search?q=Korean', 'promoted_content': None, 'query': 'Korean', 'tweet_volume': 143338}, {'name': 'China', 'url': 'http://twitter.com/search?q=China', 'promoted_content': None, 'query': 'China', 'tweet_volume': 183399}, {'name': 'Đúng', 'url': 'http://twitter.com/search?q=%C4%90%C3%BAng', 'promoted_content': None, 'query': '%C4%90%C3%BAng', 'tweet_volume': None}, {'name': 'Jungkook', 'url': 'http://twitter.com/search?q=Jungkook', 'promoted_content': None, 'query': 'Jungkook', 'tweet_volume': 337848}, {'name': 'Asia', 'url': 'http://twitter.com/search?q=Asia', 'promoted_content': None, 'query': 'Asia', 'tweet_volume': 86518}, {'name': 'Trung Quốc', 'url': 'http://twitter.com/search?q=%22Trung+Qu%E1%BB%91c%22', 'promoted_content': None, 'query': '%22Trung+Qu%E1%BB%91c%22', 'tweet_volume': None}, {'name': 'Google', 'url': 'http://twitter.com/search?q=Google', 'promoted_content': None, 'query': 'Google', 'tweet_volume': 449418}, {'name': '#WhatAReliefYoongiWasBorn', 'url': 'http://twitter.com/search?q=%23WhatAReliefYoongiWasBorn', 'promoted_content': None, 'query': '%23WhatAReliefYoongiWasBorn', 'tweet_volume': 126226}, {'name': '#suga', 'url': 'http://twitter.com/search?q=%23suga', 'promoted_content': None, 'query': '%23suga', 'tweet_volume': 360281}, {'name': '#HAPPYSUGADAY', 'url': 'http://twitter.com/search?q=%23HAPPYSUGADAY', 'promoted_content': None, 'query': '%23HAPPYSUGADAY', 'tweet_volume': 1289399}, {'name': '#InternationalWomensDay', 'url': 'http://twitter.com/search?q=%23InternationalWomensDay', 'promoted_content': None, 'query': '%23InternationalWomensDay', 'tweet_volume': 1049585}, {'name': '#슈가생일ᄎᄏ', 'url': 'http://twitter.com/search?q=%23%EC%8A%88%EA%B0%80%EC%83%9D%EC%9D%BC%E1%84%8E%E1%84%8F', 'promoted_content': None, 'query': '%23%EC%8A%88%EA%B0%80%EC%83%9D%EC%9D%BC%E1%84%8E%E1%84%8F', 'tweet_volume': 1571529}, {'name': '#MinstradamusDay', 'url': 'http://twitter.com/search?q=%23MinstradamusDay', 'promoted_content': None, 'query': '%23MinstradamusDay', 'tweet_volume': 149146}, {'name': '#윤기는_나의_음악이_됐네', 'url': 'http://twitter.com/search?q=%23%EC%9C%A4%EA%B8%B0%EB%8A%94_%EB%82%98%EC%9D%98_%EC%9D%8C%EC%95%85%EC%9D%B4_%EB%90%90%EB%84%A4', 'promoted_content': None, 'query': '%23%EC%9C%A4%EA%B8%B0%EB%8A%94_%EB%82%98%EC%9D%98_%EC%9D%8C%EC%95%85%EC%9D%B4_%EB%90%90%EB%84%A4', 'tweet_volume': 441342}, {'name': '#food', 'url': 'http://twitter.com/search?q=%23food', 'promoted_content': None, 'query': '%23food', 'tweet_volume': 12873}, {'name': '#javascript', 'url': 'http://twitter.com/search?q=%23javascript', 'promoted_content': None, 'query': '%23javascript', 'tweet_volume': None}]\n"
     ]
    }
   ],
   "source": [
    "trends=local_trends\n",
    "print(type(trends))\n",
    "print(list(trends[0].keys()))\n",
    "print(trends[0]['trends'])"
   ]
  },
  {
   "cell_type": "code",
   "execution_count": 8,
   "metadata": {
    "nbgrader": {
     "grade": false,
     "grade_id": "list_of_trends",
     "locked": false,
     "schema_version": 1,
     "solution": true
    }
   },
   "outputs": [
    {
     "data": {
      "text/plain": [
       "['#OurFirstLoveYoongi',\n",
       " '#ELFWantOT11',\n",
       " '#GreatestTaeyeonDay',\n",
       " '#PerthSaintSation',\n",
       " '#윤기_멋대로_살아_전부_니꺼야',\n",
       " 'Min Yoongi',\n",
       " 'Captain Marvel',\n",
       " 'Korean',\n",
       " 'China',\n",
       " 'Đúng',\n",
       " 'Jungkook',\n",
       " 'Asia',\n",
       " 'Trung Quốc',\n",
       " 'Google',\n",
       " '#WhatAReliefYoongiWasBorn',\n",
       " '#suga',\n",
       " '#HAPPYSUGADAY',\n",
       " '#InternationalWomensDay',\n",
       " '#슈가생일ᄎᄏ',\n",
       " '#MinstradamusDay',\n",
       " '#윤기는_나의_음악이_됐네',\n",
       " '#food',\n",
       " '#javascript']"
      ]
     },
     "execution_count": 8,
     "metadata": {},
     "output_type": "execute_result"
    }
   ],
   "source": [
    "list_of_trends = None\n",
    "### BEGIN SOLUTION\n",
    "list_of_trends = [trend['name'] for trend in local_trends[0]['trends']]\n",
    "list_of_trends\n",
    "### END SOLUTION"
   ]
  },
  {
   "cell_type": "code",
   "execution_count": 8,
   "metadata": {},
   "outputs": [],
   "source": [
    "assert isinstance(list_of_trends, list), \"list_of_trends should be a list\""
   ]
  },
  {
   "cell_type": "markdown",
   "metadata": {},
   "source": [
    "## Exercise 4: Collecting search results\n",
    "\n",
    "Now let's execute a search on Twitter for the most popular trend and repeat the filtering step performed during lecture to remove duplicate results.\n",
    "\n",
    "Set the `q` variable to the most popular trend in the list we retrieved above:"
   ]
  },
  {
   "cell_type": "code",
   "execution_count": 9,
   "metadata": {
    "nbgrader": {
     "grade": false,
     "grade_id": "q",
     "locked": false,
     "schema_version": 1,
     "solution": true
    }
   },
   "outputs": [],
   "source": [
    "q = None\n",
    "### BEGIN SOLUTION\n",
    "q = list_of_trends[0]\n",
    "### END SOLUTION"
   ]
  },
  {
   "cell_type": "markdown",
   "metadata": {},
   "source": [
    "Then let's execute the Twitter search:"
   ]
  },
  {
   "cell_type": "code",
   "execution_count": 10,
   "metadata": {},
   "outputs": [],
   "source": [
    "# DO NOT MODIFY\n",
    "count = 100\n",
    "\n",
    "search_results = twitter_api.search.tweets(q=q, count=count)\n",
    "\n",
    "statuses = search_results['statuses']"
   ]
  },
  {
   "cell_type": "code",
   "execution_count": 11,
   "metadata": {},
   "outputs": [
    {
     "data": {
      "text/plain": [
       "75"
      ]
     },
     "execution_count": 11,
     "metadata": {},
     "output_type": "execute_result"
    }
   ],
   "source": [
    "# DO NOT MODIFY\n",
    "\n",
    "all_text = []\n",
    "filtered_statuses = []\n",
    "for s in statuses:\n",
    "    if not s[\"text\"] in all_text:\n",
    "        filtered_statuses.append(s)\n",
    "        all_text.append(s[\"text\"])\n",
    "len(filtered_statuses)"
   ]
  },
  {
   "cell_type": "code",
   "execution_count": 12,
   "metadata": {},
   "outputs": [
    {
     "data": {
      "text/plain": [
       "{'created_at': 'Sat Mar 09 20:46:33 +0000 2019',\n",
       " 'id': 1104483633576984577,\n",
       " 'id_str': '1104483633576984577',\n",
       " 'text': 'RT @thelastkar: T: Por cierto, Te amo hyung\\nY: Gracias\\nT: ¿Por qué no me contestas?\\nY: Gracias\\nT: ¿Por qué no me contestas?\\n*Entra de nuevo…',\n",
       " 'truncated': False,\n",
       " 'entities': {'hashtags': [],\n",
       "  'symbols': [],\n",
       "  'user_mentions': [{'screen_name': 'thelastkar',\n",
       "    'name': \"I'м ѕα∂ 🎹!\",\n",
       "    'id': 3405802504,\n",
       "    'id_str': '3405802504',\n",
       "    'indices': [3, 14]}],\n",
       "  'urls': []},\n",
       " 'metadata': {'iso_language_code': 'es', 'result_type': 'recent'},\n",
       " 'source': '<a href=\"http://twitter.com/download/android\" rel=\"nofollow\">Twitter for Android</a>',\n",
       " 'in_reply_to_status_id': None,\n",
       " 'in_reply_to_status_id_str': None,\n",
       " 'in_reply_to_user_id': None,\n",
       " 'in_reply_to_user_id_str': None,\n",
       " 'in_reply_to_screen_name': None,\n",
       " 'user': {'id': 4851872920,\n",
       "  'id_str': '4851872920',\n",
       "  'name': 'naminyoon🎼🎹🎼',\n",
       "  'screen_name': 'naseok20',\n",
       "  'location': '',\n",
       "  'description': 'las alas solo son libertad cuando están abiertas en pleno vuelo. plegadas en la espalda son una carga.\\nMarina Tsvetayeva',\n",
       "  'url': None,\n",
       "  'entities': {'description': {'urls': []}},\n",
       "  'protected': False,\n",
       "  'followers_count': 422,\n",
       "  'friends_count': 284,\n",
       "  'listed_count': 1,\n",
       "  'created_at': 'Wed Jan 27 01:19:57 +0000 2016',\n",
       "  'favourites_count': 70106,\n",
       "  'utc_offset': None,\n",
       "  'time_zone': None,\n",
       "  'geo_enabled': False,\n",
       "  'verified': False,\n",
       "  'statuses_count': 45630,\n",
       "  'lang': 'es',\n",
       "  'contributors_enabled': False,\n",
       "  'is_translator': False,\n",
       "  'is_translation_enabled': False,\n",
       "  'profile_background_color': 'F5F8FA',\n",
       "  'profile_background_image_url': None,\n",
       "  'profile_background_image_url_https': None,\n",
       "  'profile_background_tile': False,\n",
       "  'profile_image_url': 'http://pbs.twimg.com/profile_images/1103814653849882624/eVpyjrup_normal.jpg',\n",
       "  'profile_image_url_https': 'https://pbs.twimg.com/profile_images/1103814653849882624/eVpyjrup_normal.jpg',\n",
       "  'profile_banner_url': 'https://pbs.twimg.com/profile_banners/4851872920/1552010957',\n",
       "  'profile_link_color': '1DA1F2',\n",
       "  'profile_sidebar_border_color': 'C0DEED',\n",
       "  'profile_sidebar_fill_color': 'DDEEF6',\n",
       "  'profile_text_color': '333333',\n",
       "  'profile_use_background_image': True,\n",
       "  'has_extended_profile': True,\n",
       "  'default_profile': True,\n",
       "  'default_profile_image': False,\n",
       "  'following': False,\n",
       "  'follow_request_sent': False,\n",
       "  'notifications': False,\n",
       "  'translator_type': 'none'},\n",
       " 'geo': None,\n",
       " 'coordinates': None,\n",
       " 'place': None,\n",
       " 'contributors': None,\n",
       " 'retweeted_status': {'created_at': 'Sat Mar 09 12:04:17 +0000 2019',\n",
       "  'id': 1104352200917221377,\n",
       "  'id_str': '1104352200917221377',\n",
       "  'text': 'T: Por cierto, Te amo hyung\\nY: Gracias\\nT: ¿Por qué no me contestas?\\nY: Gracias\\nT: ¿Por qué no me contestas?\\n*Entra… https://t.co/vYqwjMPKnu',\n",
       "  'truncated': True,\n",
       "  'entities': {'hashtags': [],\n",
       "   'symbols': [],\n",
       "   'user_mentions': [],\n",
       "   'urls': [{'url': 'https://t.co/vYqwjMPKnu',\n",
       "     'expanded_url': 'https://twitter.com/i/web/status/1104352200917221377',\n",
       "     'display_url': 'twitter.com/i/web/status/1…',\n",
       "     'indices': [116, 139]}]},\n",
       "  'metadata': {'iso_language_code': 'es', 'result_type': 'recent'},\n",
       "  'source': '<a href=\"http://twitter.com/download/android\" rel=\"nofollow\">Twitter for Android</a>',\n",
       "  'in_reply_to_status_id': None,\n",
       "  'in_reply_to_status_id_str': None,\n",
       "  'in_reply_to_user_id': None,\n",
       "  'in_reply_to_user_id_str': None,\n",
       "  'in_reply_to_screen_name': None,\n",
       "  'user': {'id': 3405802504,\n",
       "   'id_str': '3405802504',\n",
       "   'name': \"I'м ѕα∂ 🎹!\",\n",
       "   'screen_name': 'thelastkar',\n",
       "   'location': '방탄소년단 × 민윤기 ↬ ♡ˎˊ˗',\n",
       "   'description': '₍🗒₎²ᵎ ³ᵎ • ʙᴀɴɢᴛᴀɴ sᴏɴʏᴇᴏɴᴅᴀɴ ɪs ᴍʏ ʙᴇᴀᴜᴛɪғᴜʟ ᴍᴏᴍᴇɴᴛ ᴀɴᴅ ᴍʏ sᴘʀɪɴɢ ᴅᴀʏ • [#ˢᵉᵃ] + [#ᵈᵈᵃᵉᶰᵍ] • ᴛʜᴇʏ sᴀᴠᴇᴅ ᴍʏ ʟɪғᴇ • ᴘʟᴀʏ ↬ ᴛʀɪᴠɪᴀ 轉: sᴇᴇsᴀᴡ.ᴍᴘ3',\n",
       "   'url': None,\n",
       "   'entities': {'description': {'urls': []}},\n",
       "   'protected': False,\n",
       "   'followers_count': 30012,\n",
       "   'friends_count': 23550,\n",
       "   'listed_count': 49,\n",
       "   'created_at': 'Thu Aug 06 15:11:58 +0000 2015',\n",
       "   'favourites_count': 242026,\n",
       "   'utc_offset': None,\n",
       "   'time_zone': None,\n",
       "   'geo_enabled': False,\n",
       "   'verified': False,\n",
       "   'statuses_count': 78998,\n",
       "   'lang': 'es',\n",
       "   'contributors_enabled': False,\n",
       "   'is_translator': False,\n",
       "   'is_translation_enabled': False,\n",
       "   'profile_background_color': '022330',\n",
       "   'profile_background_image_url': 'http://abs.twimg.com/images/themes/theme15/bg.png',\n",
       "   'profile_background_image_url_https': 'https://abs.twimg.com/images/themes/theme15/bg.png',\n",
       "   'profile_background_tile': False,\n",
       "   'profile_image_url': 'http://pbs.twimg.com/profile_images/1104432347670368256/9Opr_NYX_normal.jpg',\n",
       "   'profile_image_url_https': 'https://pbs.twimg.com/profile_images/1104432347670368256/9Opr_NYX_normal.jpg',\n",
       "   'profile_banner_url': 'https://pbs.twimg.com/profile_banners/3405802504/1552152242',\n",
       "   'profile_link_color': '0084B4',\n",
       "   'profile_sidebar_border_color': 'A8C7F7',\n",
       "   'profile_sidebar_fill_color': 'C0DFEC',\n",
       "   'profile_text_color': '333333',\n",
       "   'profile_use_background_image': True,\n",
       "   'has_extended_profile': True,\n",
       "   'default_profile': False,\n",
       "   'default_profile_image': False,\n",
       "   'following': False,\n",
       "   'follow_request_sent': False,\n",
       "   'notifications': False,\n",
       "   'translator_type': 'none'},\n",
       "  'geo': None,\n",
       "  'coordinates': None,\n",
       "  'place': None,\n",
       "  'contributors': None,\n",
       "  'is_quote_status': False,\n",
       "  'retweet_count': 443,\n",
       "  'favorite_count': 813,\n",
       "  'favorited': False,\n",
       "  'retweeted': False,\n",
       "  'possibly_sensitive': False,\n",
       "  'lang': 'es'},\n",
       " 'is_quote_status': False,\n",
       " 'retweet_count': 443,\n",
       " 'favorite_count': 0,\n",
       " 'favorited': False,\n",
       " 'retweeted': False,\n",
       " 'lang': 'es'}"
      ]
     },
     "execution_count": 12,
     "metadata": {},
     "output_type": "execute_result"
    }
   ],
   "source": [
    "filtered_statuses[0]"
   ]
  },
  {
   "cell_type": "markdown",
   "metadata": {},
   "source": [
    "## Exercise 5: Create a list of retweet count and status tuples\n",
    "\n",
    "We want to sort the tweets by the retweet count, therefore the first step is to create a list of tuples where the first element is the retweet count and then use the `sorted` function to perform the sorting operation."
   ]
  },
  {
   "cell_type": "code",
   "execution_count": 21,
   "metadata": {
    "nbgrader": {
     "grade": false,
     "grade_id": "retweets",
     "locked": false,
     "schema_version": 1,
     "solution": true
    }
   },
   "outputs": [
    {
     "data": {
      "text/plain": [
       "[(443,\n",
       "  'RT @thelastkar: T: Por cierto, Te amo hyung\\nY: Gracias\\nT: ¿Por qué no me contestas?\\nY: Gracias\\nT: ¿Por qué no me contestas?\\n*Entra de nuevo…'),\n",
       " (43,\n",
       "  'RT @Zulemavalera: Cansada en el corredor pero al ver esto 💜😊 me alegró el día, muchas armys te amamos Suga 🐱 y te deseamos un feliz cumplea…'),\n",
       " (1064,\n",
       "  'RT @ctrlpark: BTS / yoongi GIVEAWAY\\n↳ photocards of yoongi random  \\n\\n ↱ how to win\\n— retweet this tweet\\n— follow me &amp; turn my notifs on \\n\\n♡…'),\n",
       " (30,\n",
       "  'RT @Vmys3: @BTS_twt Happy birthday MIN SUGAA 💕🎂🎉🎉 #OurFirstLoveYoongi #HAPPYSUGADAY https://t.co/mTPnZSKEak'),\n",
       " (1234,\n",
       "  'RT @asian_cat_lady: happy day of birth yoongi ;u; please rest as much as you can and have a really great day 💝\\n#HappyYoongiDay\\n#OurFirstLov…'),\n",
       " (86,\n",
       "  'RT @btsss_rabbit: ユンギのセンイルを記念して伝説の笑い声をお聞き下さい。\\n#HappySugaDay \\n#슈가생일ㅊㅋ \\n#OurFirstLoveYoongi \\n#윤기_멋대로_살아_전부_니꺼야 \\n#ARMYさんと繋がりたい \\n#armyさんたちと猛烈に絡…'),\n",
       " (1275,\n",
       "  'RT @LordIzxy: ⛅✨#OurFirstLoveYoongi #WhatAReliefYoongiWasBorn #HAPPYSUGADAY https://t.co/xjtSH3dMXm'),\n",
       " (0,\n",
       "  'Happy birthday Yoongi 🎉💟\\n\\n#HAPPYSUGADAY\\n#OurFirstLoveYoongi\\n#윤기는_나의_음악이_됐네\\n#나의_삶_나의_음악_민윤기 https://t.co/8u5wpreQ35'),\n",
       " (1150,\n",
       "  'RT @cafe_army: when one enters the studio of yoongi,\\none BECOMES yoongi ...\\n\\n#HAPPYSUGADAY\\n#OurFirstLoveYoongi\\n#윤기는_나의_음악이_됐네\\n#나의_삶_나의_음악_민…'),\n",
       " (14898,\n",
       "  'RT @chaemyg: The saga continues 🎂\\n\\n#OurFirstLoveYoongi\\n#WhatAReliefYoongiWasBorn\\n#HappySugaDay https://t.co/hUqavAM39R'),\n",
       " (17754,\n",
       "  'RT @kookbeingextra: yoons waiting for his turn to dance with jungkook after hobi will always be the cutest🥺🥺 @BTS_twt \\n\\n#OurFirstLoveYoongi…'),\n",
       " (15260,\n",
       "  'RT @hobis_pouch: there’s a public piano at my uni so I took to it to declare my undying love for min suga #berkeleypiano\\n\\n#HappySUGADay #윤기…'),\n",
       " (412,\n",
       "  'RT @BTSEuropeARMY: @BTS_twt Happy Birthday Yoongi!!🎉\\n\\nHope u had an amazing day! \\nThanks for coming by VLIVE💜It was fun! \\n\\n#OurFirstLoveYoo…'),\n",
       " (2,\n",
       "  'RT @spring_dayseven: Siz neden hala kutlamadınız 🥳😒\\n\\n@BTS_twt \\n#OurFirstLoveYoongi \\n#HappyMinSUGADay \\n\\nhttps://t.co/tHbrGoUYTX'),\n",
       " (321,\n",
       "  'RT @BangBangtan_Esp: &gt;&gt;[Sub Español] 140115 SUGA&lt;&lt;\\n\\nTe mereces lo mejor de este mundo y mucho más. &lt;3\\n\\nLink:https://t.co/LUoZxzLjq9 \\n\\nAdmin…'),\n",
       " (3693,\n",
       "  'RT @jinpathy: remember this moment when the entire fandom went down in flames\\n\\n#OurFirstLoveYoongi https://t.co/3nPo0Ht5BW'),\n",
       " (924,\n",
       "  'RT @purpleloveplus: [VLIVE #Yoongi] \\n\\n\"¿Tienes un deseo de cumpleaños?\"\\n\\n🐱 \"Mi deseo es ... no recibir ritmos/golpes de cumpleaños. Pero Ju…'),\n",
       " (9,\n",
       "  'RT @AlmuArmy: 💜\"Ven aquí~\" \"No~ Para\" 💜\\n(No trad) \\n@BTS_twt\\n#OurFirstLoveYoongi\\n#HappySugaDay \\n#HappyMinSugaDay \\n#NuestroGenioMusicalYoongi…'),\n",
       " (768,\n",
       "  'RT @JiminGinger: you are telling me THAT YOONGI\\n\"donated 100M won (~US $88k+) to Korea Pediatric Cancer Foundation on his birthday UNDER AR…'),\n",
       " (105,\n",
       "  'RT @itschaarmaine: RAISE YOUR HANDS IF U LOVE THIS MAN\\n\\n#HAPPYSUGADAY #OurFirstLoveYoongi #WhatAReliefYoongiWasBorn\\n#Happy민슈가Day @BTS_twt\\nh…'),\n",
       " (2268,\n",
       "  'RT @cafe_army: why is yoonji always eating dinner 😂\\n\\n#HAPPYSUGADAY\\n#OurFirstLoveYoongi\\n#윤기는_나의_음악이_됐네\\n#나의_삶_나의_음악_민윤기 \\n@BTS_twt #BTS #방탄소년단…'),\n",
       " (0,\n",
       "  'Aaaawwww..so cute taetae and yoongi, same hair color!😍😍😍💜💜💜\\n#SugaDay #HappySugaDay #OurFirstLoveYoongi @bts_twt https://t.co/0ZxnBCFqDk'),\n",
       " (0,\n",
       "  '#윤기_멋대로_살아_전부_니꺼야\\n#HAPPYSUGADAY #OurFirstLoveYoongi \\n#SUGA #YoongiLetsDreamTogether #WhatAReliefYoongiWasBorn \\nAnh… https://t.co/ReVSaCi8j8'),\n",
       " (239,\n",
       "  'RT @Bonnie_9595: with tae💜\\n#OurFirstLoveYoongi\\n#HAPPYSUGADAY @BTS_twt https://t.co/tA53bWXmJ6'),\n",
       " (482,\n",
       "  'RT @qhfkgo31: RT 이벵)🎉윤기 생일 맞이🎉\\n알티 추첨해서 기프티콘 선물해드릴게요!\\n(알티만 하셔도 되니 일회성 팔로우는 X)\\n우리 둘째 생일 축하해💜\\n참여 많이 해주세염ㅁㅁ(반응 없음 쿨삭)\\n#나의_삶_나의_음악_민윤기 \\n#윤기_멋대로_…'),\n",
       " (2801,\n",
       "  'RT @MundonickLA: Hoy es cumpleaños de uno de nuestros @BTS_twt más queridos, ¡felices 25 años, Min Yoongi! 🎂🎈🎉 #Suga #OurFirstLoveYoongi #A…'),\n",
       " (0,\n",
       "  'Завтра фото будет лучше, а пока: ааааааа, я закончил! \\nУ Юнги день рождения, я очень хочу его поздравить и сделать… https://t.co/7KRfDXTeIo'),\n",
       " (45,\n",
       "  \"RT @BtsNepalProject: Yoongi's birthday was a huge success with a bang thankyou everyone We had so much fun today and made a good memory tha…\"),\n",
       " (1515,\n",
       "  'RT @peachBOY_0613: #SUGA @BTS_twt\\n#윤기는_나의_음악이_됐네 \\n#Yoongi_became_my_music \\n#윤기_멋대로_살아_전부_니꺼야 #Yoongi_live_as_you_want_everythingis_yours \\n#…'),\n",
       " (2,\n",
       "  'RT @bluesidehopes: #SUGA @BTS_twt \\n#HAPPYSUGADAY\\n#OurFirstLoveYoongi \\n#윤기는_나의_음악이_됐네 \\n#슈가생일ㅊㅋ\\n#윤기의_미래는_기쁨만_가득할테니\\n#함께할게_윤기의_탄생과_끝\\n#나의슈퍼히어로민슈…'),\n",
       " (0,\n",
       "  '@BTS_twt Hope that you are having the best birthday ever!  🎂 Love you Yoongi and so proud of you 💜\\n#OurFirstLoveYoongi\\n#HAPPYSUGADAY'),\n",
       " (97,\n",
       "  'RT @IAmYourJams_: Happy Birthday to our AGUST D! 🔥💕 #OurFirstLoveYoongi #HappyMinSugaDay https://t.co/VRIkriYLhw'),\n",
       " (38,\n",
       "  'RT @alliahchoikim: #HAPPYSUGADAY\\n#OurFirstLoveYoongi\\nHappy birthday glutaaaaa baby 💓 https://t.co/6E9YtDVBPW'),\n",
       " (2602,\n",
       "  'RT @BTS_BR: 📝 SUGA doou 100 milhões de won (cerca de 88 mil dólares) para a Fundação Pediátrica de Câncer da Coreia no seu aniversário! Ele…'),\n",
       " (78,\n",
       "  'RT @SaturnsEuphoria: &lt; Happy Suga Day!! &gt; 🐱🐱\\n\\n#SUGA #BTS #btsfanart\\n#HAPPYSUGADAY\\n#OurFirstLoveYoongi \\n#윤기_멋대로_살아_전부_니꺼야\\n#윤기는_나의_음악이_됐네 \\n#슈…'),\n",
       " (136,\n",
       "  'RT @LovelsKookie: \"eles são muito menosprezados somente porque são fãs de idols e isso não deveria acontecer\"\\n\\n\"você não é capaz de voar co…'),\n",
       " (38,\n",
       "  'RT @MyInfo86834709: Happy birthday to the only genius that really matters.\\n#HappySugaDay \\n#OurFirstLoveYoongi https://t.co/fnB8FUtOjx'),\n",
       " (1,\n",
       "  'RT @APinyin: https://t.co/3Q80NhFrtL\\n\\n#news #journaldunemaman #ActeXVII #MasterChefGR #NCTzenSelcaDay #OurFirstLoveYoongi #PSVNAC #QAnon #R…'),\n",
       " (1,\n",
       "  'RT @soxue_art: #HappySUGAday #OurFirstLoveYoongi #SUGA #btsfanart 💙💙💙 all the love to u lil meow meow https://t.co/X6thnF1h01'),\n",
       " (159,\n",
       "  'RT @taehyunsvisuals: happy 6th birthday yoongi, you deserve the universe. we love you💛\\n #OurFirstLoveYoongi https://t.co/efregX3Z8W'),\n",
       " (256,\n",
       "  'RT @BTS_Peru: @BTS_twt TRAD |090319| #Jungkook\\n\\n\"#/FelizCumpleañosSuga Vayamos a comer brochetas de cordero hyung-nim\".\\n\\n@BTS_twt #OurFirst…'),\n",
       " (18000,\n",
       "  'RT @Shazam: Happy b-day to #OurFirstLoveYoongi 🎂🎂🎂\\n\\nLet us know your fav #Yoongi moment here ---&gt; https://t.co/wpxQANXpdJ https://t.co/FUI9…'),\n",
       " (3,\n",
       "  'RT @army_g95: 🎂\\nㅤ           ╔═ ♡⋆ ═════════╗\\n                     Eres mi Príncipe\\n                              Azúl\\nㅤ           ╚════════…'),\n",
       " (720,\n",
       "  'RT @duckzillyongim: 내새끼 우리 윤기 생일인데 종일 잠만 잤네여..😭💜\\n늦게나마 RT 이벤트😿\\n두분께 럽셀윤기키링 / 티머니 윤기를 보내드려요🎂\\n내새끼 생일 축하해 우래기💜\\n\\nRT만 해주세요. 팔로❌❌❌\\n내일 저녁에 집와서 뽑을게요…'),\n",
       " (1116,\n",
       "  'RT @swarriahk: Happy birthday to my first love Yoongi💕I love you to the moon and back! \\n\\n#윤기_멋대로_살아_전부_니꺼야 \\n#OurFirstLoveYoongi #WhatARelie…'),\n",
       " (101,\n",
       "  'RT @micioprit: I can’t even begin to tell you how much I love you so I’m just gonna wish you happy birthday and hope this years will give y…'),\n",
       " (2392,\n",
       "  'RT @ho2seokjin: Yoongi ronronea igual que un gatito. Exploté de amor.\\n\\n#OurFirstLoveYoongi #HappyMinSugaDay @BTS_twt https://t.co/xSh1w46uEm'),\n",
       " (2100,\n",
       "  'RT @BangBangtan_Esp: 🎥[FMV] Min Suga prediciones 🗿\\n\\nPor un año más donde lo que diga este hombre se haga realidad💕💕🙇\\n\\n#NuestroGenioMusicalY…'),\n",
       " (161,\n",
       "  'RT @idoItear: happy birthday to the cutest and softest baby boy, i love you 💜\\n#HAPPYSUGADAY\\n#OurFirstLoveYoongi \\n#윤기_멋대로_살아_전부_니꺼야 https://…'),\n",
       " (334,\n",
       "  'RT @stigmabrasil: 📽️ Vídeo em comemoração ao aniversário do Yoongi em um dos painéis na Broadway, Nova York.\\n\\ncr.knjoontune \\n@BTS_twt #OurF…'),\n",
       " (21,\n",
       "  'RT @letters_yoongi: Well, I have been very inactive, I have been very sad lately, but I am very happy to be able to celebrate your birthday…'),\n",
       " (320,\n",
       "  'RT @TeamBTSvotes: 🎈SIGAMOS EN TENDENCIA🎈\\n\\n¿Cuál es tu canción favorira de Yoongi?\\n\\n👉Si te sale la de mayor % comenta 30 fotos de Yoongi.\\n👉S…'),\n",
       " (1,\n",
       "  \"RT @primrose247: Happy birthday to Min Yoongi! Every set of lyrics and beats he puts out moves me, I don't know how such a talented, humble…\"),\n",
       " (44,\n",
       "  'RT @Nhel291: To our lil meow meow happy birthday @BTS_twt\\n#HappySugaDay\\n#OurFirstLoveYoongi https://t.co/ha7RTPP0ww'),\n",
       " (7,\n",
       "  'RT @baddbye: happy birthday \\nto my little angel . . . ♡\\n\\n— #OurFirstLoveYoongi\\n— #HappySugaDay https://t.co/xgf9gvqNBZ'),\n",
       " (413,\n",
       "  'RT @BangBangtan_Esp: [DATO CURIOSO]\\n\\nFeliz cumpleaños Yoongi!! realmente espero que la pases muy bien hoy💕 \\nTe quiero muchísimo💜\\n\\n-Star✨\\n\\n#…'),\n",
       " (554,\n",
       "  'RT @RMPICS_twt: 🖤❤️🖤❤️ #RM #SUGA #Namgi \\n#HappyMinSugaDay  @BTS_twt \\n#OurFirstLoveYoongi 🖤❤️🖤❤️ https://t.co/aQbKlQjYt6'),\n",
       " (47,\n",
       "  'RT @Mochi_Perfect_: 🐯: ¡Te di un regalo! No actúes como yo no lo hice.\\n🐱: ¿De qué estás hablando? Ohhhhh !! ¿El vino? Pero eso fue mucho an…'),\n",
       " (351,\n",
       "  'RT @BangtacosMX: “Pasamos por muchos momentos difíciles pero creo que es por ello que nuestro trabajo en equipo es muy fuerte y somos tan c…'),\n",
       " (710,\n",
       "  'RT @maron_bts: 💚\\n#HAPPYSUGADAY\\n#OurFirstLoveYoongi https://t.co/4zNGBcwkAq'),\n",
       " (26,\n",
       "  'RT @EditsVan: ˚₊· ͟͟͞͞➳ (Pack simples - Yoongi) ♡·˚\\n\\n ➯ Favorite se gostar \\n ➯ RT se pegar\\n ➯ Print se usar \\n\\n↬Vick 𖠪᳝࣪᪻🌒ໍּ๋ࣹ\\xa0 (@BTS_twt)…'),\n",
       " (116,\n",
       "  'RT @frroggy_: Happy Birthday to our Min Yoongi! 🦋\\n\\n#HappySugaDay #WhatAReliefYoongiWasBorn #OurFirstLoveYoongi #YOONGI #SUGA https://t.co/g…'),\n",
       " (402,\n",
       "  'RT @taewildx: MIN YOONGI PORQUE ERES TAN BONITO LPM\\n\\n#OurFirstLoveYoongi\\n\\n https://t.co/RJUWKUdVtr'),\n",
       " (19948,\n",
       "  'RT @snowberrytae: in case you never saw it, this was the day when Yoongi opened up to us, not as BTS Suga to his fans but as Min Yoongi, a…'),\n",
       " (111,\n",
       "  'RT @JeonJungkook_BR: [thread🎂 #HAPPYSUGADAY]\\n\\nFeliz aniversário para nosso Genius Min Yoongi, o homem do sorriso gengival cativante. Seu am…'),\n",
       " (761,\n",
       "  'RT @virginradiojkt: [@StefanyErlangga] ok ok really, this is the last one for tonight. But, ONCE AGAIN, HAPPIEST BIRTHDAY TO #OurFirstLoveY…'),\n",
       " (5888,\n",
       "  'RT @Randomsplashes: a birthday surprise for yoongi! 🎂🎉\\n\\n#btsfanart #BTS #SUGA #OurFirstLoveYoongi #HAPPYSUGADAY #MinstradamusDay @bts_twt h…'),\n",
       " (338,\n",
       "  'RT @BangBangtan_Esp: 📽️[FMV] Suga siendo lindo♥ | Suga being cute\\n\\n➡️https://t.co/0NuFa7cbC9 \\n\\nSuga es una cosita super tierna cada que qui…'),\n",
       " (1,\n",
       "  'https://t.co/3Q80NhFrtL\\n\\n#news #journaldunemaman #ActeXVII #MasterChefGR #NCTzenSelcaDay #OurFirstLoveYoongi… https://t.co/oJAjy1hzdW'),\n",
       " (7,\n",
       "  'RT @miupokekun: though im a bit late, HAPPY BIRTHDAY TO OUR MUSICAL GENIUS🔥 (and happy #caturday !)\\n\\n@BTS_twt #SUGA #AgustD #OurFirstLoveYo…'),\n",
       " (2330,\n",
       "  'RT @RMPICS_twt: when joon’s just a baby, a tol baby boy... yoongi’s tol baby boy... 😭❤️\\n#RM #SUGA #namgi @BTS_twt #HappyMinSugaDay #OurFirs…'),\n",
       " (0,\n",
       "  '#BTSXWEMBLEY #BTSLONDONTICKETS #OurFirstLoveYoongi\\nSelling tickets face value. https://t.co/0oB3uisnkU'),\n",
       " (236,\n",
       "  'RT @btspiics1: @BTS_twt #OurFirstLoveYoongi \\n#HAPPYSUGADAY 💕 https://t.co/U5az0hpepq'),\n",
       " (8272,\n",
       "  \"RT @tumblr: Happy Birthday to @BTS_twt's sleepy genius rapper, Suga! https://t.co/QggBEjke6e (by @ProTeaDrinkerr) #HAPPYSUGADAY #OurFirstLo…\"),\n",
       " (447,\n",
       "  'RT @crazyarmyforBTS: El sentimiento con el que Yoongi rapea su parte en Born Singer. Se imaginan todos los sentimientos que lo invadian cad…')]"
      ]
     },
     "execution_count": 21,
     "metadata": {},
     "output_type": "execute_result"
    }
   ],
   "source": [
    "retweets = None\n",
    "### BEGIN SOLUTION\n",
    "retweets = [(s['retweet_count'], s['text']) for s in filtered_statuses]\n",
    "retweets\n",
    "### END SOLUTION"
   ]
  },
  {
   "cell_type": "code",
   "execution_count": 14,
   "metadata": {},
   "outputs": [],
   "source": [
    "assert len(retweets) == len(filtered_statuses), \"Make sure you are using filterest_statuses and not statuses\"\n",
    "assert len(retweets[0]) == 2, \"Each tuple should only have 2 elements, retweet count and the tweet text\""
   ]
  },
  {
   "cell_type": "markdown",
   "metadata": {},
   "source": [
    "## Exercise 6: Sort a list of tweets\n",
    "\n",
    "Use the `sorted` function to sort retweets and get the 10 more popular, we'd like to have the more popular tweet first."
   ]
  },
  {
   "cell_type": "code",
   "execution_count": 15,
   "metadata": {
    "nbgrader": {
     "grade": false,
     "grade_id": "popular_tweets",
     "locked": false,
     "schema_version": 1,
     "solution": true
    }
   },
   "outputs": [
    {
     "data": {
      "text/plain": [
       "[(19948,\n",
       "  'RT @snowberrytae: in case you never saw it, this was the day when Yoongi opened up to us, not as BTS Suga to his fans but as Min Yoongi, a…'),\n",
       " (18000,\n",
       "  'RT @Shazam: Happy b-day to #OurFirstLoveYoongi 🎂🎂🎂\\n\\nLet us know your fav #Yoongi moment here ---&gt; https://t.co/wpxQANXpdJ https://t.co/FUI9…'),\n",
       " (17754,\n",
       "  'RT @kookbeingextra: yoons waiting for his turn to dance with jungkook after hobi will always be the cutest🥺🥺 @BTS_twt \\n\\n#OurFirstLoveYoongi…'),\n",
       " (15260,\n",
       "  'RT @hobis_pouch: there’s a public piano at my uni so I took to it to declare my undying love for min suga #berkeleypiano\\n\\n#HappySUGADay #윤기…'),\n",
       " (14898,\n",
       "  'RT @chaemyg: The saga continues 🎂\\n\\n#OurFirstLoveYoongi\\n#WhatAReliefYoongiWasBorn\\n#HappySugaDay https://t.co/hUqavAM39R'),\n",
       " (8272,\n",
       "  \"RT @tumblr: Happy Birthday to @BTS_twt's sleepy genius rapper, Suga! https://t.co/QggBEjke6e (by @ProTeaDrinkerr) #HAPPYSUGADAY #OurFirstLo…\"),\n",
       " (5888,\n",
       "  'RT @Randomsplashes: a birthday surprise for yoongi! 🎂🎉\\n\\n#btsfanart #BTS #SUGA #OurFirstLoveYoongi #HAPPYSUGADAY #MinstradamusDay @bts_twt h…'),\n",
       " (3693,\n",
       "  'RT @jinpathy: remember this moment when the entire fandom went down in flames\\n\\n#OurFirstLoveYoongi https://t.co/3nPo0Ht5BW'),\n",
       " (2801,\n",
       "  'RT @MundonickLA: Hoy es cumpleaños de uno de nuestros @BTS_twt más queridos, ¡felices 25 años, Min Yoongi! 🎂🎈🎉 #Suga #OurFirstLoveYoongi #A…'),\n",
       " (2602,\n",
       "  'RT @BTS_BR: 📝 SUGA doou 100 milhões de won (cerca de 88 mil dólares) para a Fundação Pediátrica de Câncer da Coreia no seu aniversário! Ele…')]"
      ]
     },
     "execution_count": 15,
     "metadata": {},
     "output_type": "execute_result"
    }
   ],
   "source": [
    "popular_tweets = None\n",
    "### BEGIN SOLUTION\n",
    "popular_tweets = sorted(retweets, reverse=True)[:10]\n",
    "popular_tweets\n",
    "### END SOLUTION"
   ]
  },
  {
   "cell_type": "code",
   "execution_count": 16,
   "metadata": {},
   "outputs": [],
   "source": [
    "assert len(popular_tweets) == 10, \"Find the 10 most popular\"\n",
    "assert popular_tweets[0][0] >= popular_tweets[-1][0], \"Make sure you are sorting in descending order\""
   ]
  },
  {
   "cell_type": "code",
   "execution_count": null,
   "metadata": {},
   "outputs": [],
   "source": []
  }
 ],
 "metadata": {
  "anaconda-cloud": {},
  "celltoolbar": "Create Assignment",
  "kernelspec": {
   "display_name": "Python 3",
   "language": "python",
   "name": "python3"
  },
  "language_info": {
   "codemirror_mode": {
    "name": "ipython",
    "version": 3
   },
   "file_extension": ".py",
   "mimetype": "text/x-python",
   "name": "python",
   "nbconvert_exporter": "python",
   "pygments_lexer": "ipython3",
   "version": "3.7.1"
  }
 },
 "nbformat": 4,
 "nbformat_minor": 1
}
